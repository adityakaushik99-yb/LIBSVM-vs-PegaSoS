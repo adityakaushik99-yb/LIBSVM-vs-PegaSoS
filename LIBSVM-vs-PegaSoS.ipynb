{
 "cells": [
  {
   "cell_type": "code",
   "execution_count": 2,
   "metadata": {},
   "outputs": [],
   "source": [
    "#import cv2\n",
    "import numpy as np\n",
    "import pandas as pd\n",
    "import matplotlib.pyplot as plt\n",
    "%matplotlib inline"
   ]
  },
  {
   "cell_type": "code",
   "execution_count": 73,
   "metadata": {},
   "outputs": [
    {
     "name": "stdout",
     "output_type": "stream",
     "text": [
      "(500, 2)\n",
      "(500, 2)\n"
     ]
    }
   ],
   "source": [
    "mean_01 = np.array([0.0, 0.0])\n",
    "cov_01 = np.array([[1.0,0.1],[0.1,1.1]])\n",
    "\n",
    "mean_02 = np.array([2.0, 2.0])\n",
    "cov_02 = np.array([[1.2, 0.2],[0.2, 1.5]])\n",
    "\n",
    "dist_01 = np.random.multivariate_normal(mean_01, cov_01, 500)\n",
    "dist_02 = np.random.multivariate_normal(mean_02, cov_02, 500)\n",
    "\n",
    "print(dist_01.shape)\n",
    "print(dist_02.shape)"
   ]
  },
  {
   "cell_type": "code",
   "execution_count": 74,
   "metadata": {},
   "outputs": [
    {
     "data": {
      "image/png": "[encoded data removed]",
      "text/plain": [
       "<matplotlib.figure.Figure at 0x1a1d8f6eb8>"
      ]
     },
     "metadata": {},
     "output_type": "display_data"
    }
   ],
   "source": [
    "for ix in range(dist_01.shape[0]):\n",
    "    plt.scatter(dist_01[ix, 0], dist_01[ix, 1], c='r')\n",
    "    plt.scatter(dist_02[ix, 0], dist_02[ix, 1], c = 'g')\n",
    "plt.show()"
   ]
  },
  {
   "cell_type": "code",
   "execution_count": 75,
   "metadata": {},
   "outputs": [
    {
     "name": "stdout",
     "output_type": "stream",
     "text": [
      "(1000, 3)\n"
     ]
    }
   ],
   "source": [
    "rows = dist_01.shape[0]+dist_02.shape[0]\n",
    "cols = dist_01.shape[1]+1\n",
    "\n",
    "data = np.zeros((rows, cols))\n",
    "print(data.shape)"
   ]
  },
  {
   "cell_type": "code",
   "execution_count": 76,
   "metadata": {},
   "outputs": [],
   "source": [
    "data[:dist_01.shape[0], :-1] = dist_01\n",
    "data[dist_01.shape[0]:dist_01.shape[0]+dist_02.shape[0],:-1] = dist_02\n",
    "\n",
    "data[dist_01.shape[0]:dist_01.shape[0]+dist_02.shape[0],-1] = 1.0"
   ]
  },
  {
   "cell_type": "code",
   "execution_count": 77,
   "metadata": {},
   "outputs": [
    {
     "name": "stdout",
     "output_type": "stream",
     "text": [
      "[[ 1.21098436  2.05573387  1.        ]\n",
      " [-0.01821571  0.25275514  0.        ]\n",
      " [ 3.35294023  1.66178285  1.        ]\n",
      " [ 0.64272106 -0.18321059  0.        ]\n",
      " [ 1.9761143   1.6862254   1.        ]\n",
      " [-1.92456713 -0.31526501  0.        ]\n",
      " [ 0.14502337 -1.80626836  0.        ]\n",
      " [ 1.81039709  2.97965529  1.        ]\n",
      " [ 3.65011585  2.92719066  1.        ]\n",
      " [ 3.1540841   1.59195687  1.        ]]\n"
     ]
    }
   ],
   "source": [
    "np.random.shuffle(data)\n",
    "print(data[:10])"
   ]
  },
  {
   "cell_type": "code",
   "execution_count": 78,
   "metadata": {},
   "outputs": [
    {
     "name": "stdout",
     "output_type": "stream",
     "text": [
      "(850, 2)\n",
      "(150,)\n"
     ]
    }
   ],
   "source": [
    "split_factor = 0.85\n",
    "split = int(data.shape[0]*split_factor)\n",
    "train_data = data[:split]\n",
    "test_data = data[split:]\n",
    "\n",
    "X_train = train_data[:,:-1]\n",
    "Y_train = train_data[:,-1]\n",
    "\n",
    "X_test = test_data[:,:-1]\n",
    "Y_test = test_data[:,-1]\n",
    "print(X_train.shape)\n",
    "print(Y_test.shape)"
   ]
  },
  {
   "cell_type": "code",
   "execution_count": 79,
   "metadata": {},
   "outputs": [],
   "source": [
    "from sklearn.svm import SVC\n",
    "import time"
   ]
  },
  {
   "cell_type": "code",
   "execution_count": 80,
   "metadata": {},
   "outputs": [
    {
     "name": "stdout",
     "output_type": "stream",
     "text": [
      "0.8333333333333334\n",
      "0.011385679244995117\n"
     ]
    }
   ],
   "source": [
    "clf = SVC(gamma='auto')\n",
    "start_t = time.time()\n",
    "clf.fit(X_train, Y_train)\n",
    "print(clf.score(X_test, Y_test))\n",
    "end_t = time.time()\n",
    "print(end_t-start_t)"
   ]
  },
  {
   "cell_type": "code",
   "execution_count": 83,
   "metadata": {},
   "outputs": [],
   "source": [
    "class Pegasos():\n",
    "    def __init__(self, n_iter = 100 , lambda_ = 1):\n",
    "        self.n_iter = n_iter\n",
    "        self.lambda_ = lambda_\n",
    "        \n",
    "    def fit(self, X, Y):\n",
    "        #Y_ = list()\n",
    "        for i in range(Y.shape[0]):\n",
    "            if Y[i]==0:\n",
    "                Y[i]=-1\n",
    "            else:\n",
    "                Y[i]=1\n",
    "        m, n_features = X.shape[0], X.shape[1]\n",
    "        self.w = np.zeros(n_features)\n",
    "        for i in range(self.n_iter):\n",
    "            eta = 1./(self.lambda_*(i+1))\n",
    "            j = np.random.choice(m, 1)[0]\n",
    "            x, y = X[j], Y[j]\n",
    "            score = self.w.dot(x)\n",
    "            if y*score<1:\n",
    "                self.w = (1- eta*self.lambda_)*self.w + eta*y*x\n",
    "            else:\n",
    "                self.w = (1-eta*self.lambda_)*self.w\n",
    "        avg = 0.0\n",
    "        for i in range(50):\n",
    "            j = np.random.choice(m, 1)[0]\n",
    "            x , y = X[j], Y[j]\n",
    "            temp = self.w.dot(x)\n",
    "            avg+=y - temp\n",
    "        avg/=50\n",
    "        self.b = avg\n",
    "    def predict(self, x_point):\n",
    "        temp = self.w.dot(x_point)+self.b\n",
    "        if temp>=0:\n",
    "            return 1\n",
    "        else:\n",
    "            return -1\n",
    "    def accuracy_score(self, X_test, Y_test):\n",
    "        #Y = list()\n",
    "        for i in range(Y_test.shape[0]):\n",
    "            if Y_test[i]==0:\n",
    "                Y_test[i]=-1\n",
    "            else:\n",
    "                Y_test[i]=1\n",
    "        res = 0.0\n",
    "        for ix in range(X_test.shape[0]):\n",
    "            temp = self.predict(X_test[ix])\n",
    "            if temp==Y_test[i]:\n",
    "                res+=1\n",
    "        res /= X_test.shape[0]\n",
    "        return res"
   ]
  },
  {
   "cell_type": "code",
   "execution_count": 84,
   "metadata": {},
   "outputs": [
    {
     "name": "stdout",
     "output_type": "stream",
     "text": [
      "0.8866666666666667\n",
      "0.009210824966430664\n"
     ]
    }
   ],
   "source": [
    "clf_1 = Pegasos()\n",
    "st = time.time()\n",
    "clf_1.fit(X_train, Y_train)\n",
    "print(clf_1.accuracy_score(X_test, Y_test))\n",
    "et = time.time()\n",
    "print(et-st)"
   ]
  },
  {
   "cell_type": "code",
   "execution_count": null,
   "metadata": {},
   "outputs": [],
   "source": []
  }
 ],
 "metadata": {
  "kernelspec": {
   "display_name": "Python 3",
   "language": "python",
   "name": "python3"
  },
  "language_info": {
   "codemirror_mode": {
    "name": "ipython",
    "version": 3
   },
   "file_extension": ".py",
   "mimetype": "text/x-python",
   "name": "python",
   "nbconvert_exporter": "python",
   "pygments_lexer": "ipython3",
   "version": "3.6.3"
  }
 },
 "nbformat": 4,
 "nbformat_minor": 2
}
